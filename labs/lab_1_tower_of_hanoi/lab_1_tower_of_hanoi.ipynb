{
  "cells": [
    {
      "cell_type": "markdown",
      "source": [
        "<h1>Table of Contents<span class=\"tocSkip\"></span></h1>\n",
        "<div class=\"toc\"><ul class=\"toc-item\"><li><span><a href=\"#Lab1-:-Tower-of-Hanoi\" data-toc-modified-id=\"Lab1-:-Tower-of-Hanoi-1\">Lab1 : Tower of Hanoi</a></span></li><li><span><a href=\"#Learning-Outcomes\" data-toc-modified-id=\"Learning-Outcomes-2\">Learning Outcomes</a></span></li><li><span><a href=\"#Code\" data-toc-modified-id=\"Code-3\">Code</a></span></li><li><span><a href=\"#Hints\" data-toc-modified-id=\"Hints-4\">Hints</a></span></li><li><span><a href=\"#Tests\" data-toc-modified-id=\"Tests-5\">Tests</a></span></li></ul></div>"
      ],
      "metadata": {
        "nbgrader": {
          "grade": false,
          "grade_id": "cell-f49b8ea35a2dabd9",
          "locked": true,
          "schema_version": 3,
          "solution": false
        },
        "toc": true
      }
    },
    {
      "cell_type": "markdown",
      "source": [
        "Lab1 : Tower of Hanoi\n",
        "-----"
      ],
      "metadata": {
        "nbgrader": {
          "grade": false,
          "grade_id": "cell-588eb434a3567ee2",
          "locked": true,
          "schema_version": 3,
          "solution": false
        }
      }
    },
    {
      "cell_type": "markdown",
      "source": [
        "Learning Outcomes\n",
        "-----\n",
        "\n",
        "__By the end of this session, you should be able to__:\n",
        "\n",
        "- Solve the Tower of Hanoi game optimally with recursion.\n",
        "- Explain your logic to a recursive solution to Tower of Hanoi."
      ],
      "metadata": {
        "nbgrader": {
          "grade": false,
          "grade_id": "cell-5cc85b93d38670f4",
          "locked": true,
          "schema_version": 3,
          "solution": false
        }
      }
    },
    {
      "cell_type": "markdown",
      "source": [
        "Code\n",
        "-----"
      ],
      "metadata": {
        "nbgrader": {
          "grade": false,
          "grade_id": "cell-cf511f31040e6571",
          "locked": true,
          "schema_version": 3,
          "solution": false
        }
      }
    },
    {
      "cell_type": "code",
      "source": [
        "reset -fs"
      ],
      "outputs": [],
      "execution_count": 1,
      "metadata": {
        "nbgrader": {
          "grade": false,
          "grade_id": "cell-b3989d3eb2c9086b",
          "locked": true,
          "schema_version": 3,
          "solution": false
        }
      }
    },
    {
      "cell_type": "code",
      "source": [
        "\"Write a function to solve Tower of Hanoi with recursion\"\n",
        "\n",
        "def hanoi(n_disks=3, from_rod='left', to_rod='right', aux_rod='middle'): \n",
        "    \"Solve Tower of Hanoi recursively\"\n",
        "    \n",
        "    # Print state for tests; DO NOT DELETE\n",
        "    print(n_disks)\n",
        "    \n",
        "    # TODO: Write your solution below here\n",
        "    \n",
        "    \n",
        "    \n",
        "    \n",
        "    \n",
        "    \n",
        "    \n",
        "    return \"Tower of Hanoi solved 🗼🙂\"\n"
      ],
      "outputs": [],
      "execution_count": 2,
      "metadata": {
        "code_folding": [],
        "nbgrader": {
          "grade": false,
          "grade_id": "cell-d89c48480247256d",
          "locked": false,
          "schema_version": 3,
          "solution": true
        }
      }
    },
    {
      "cell_type": "markdown",
      "source": [
        "Hints\n",
        "-----\n",
        "\n",
        "-----\n",
        "\n",
        "Brian's solution is 3 lines (not including comments and print statements). \n",
        "\n",
        "It is okay if your solution is longer.\n",
        "\n",
        "----\n",
        "\n",
        "[Python Tutor can help you visualize the state of your code](http://www.pythontutor.com/visualize.html#mode=edit)\n",
        "\n",
        "-----\n",
        "\n",
        "You can put this print statement into your function:\n",
        "\n",
        "```python\n",
        "print(f\"Move disk {n_disks} from {from_rod} rod to {to_rod} rod.\")\n",
        "```\n",
        "\n",
        "Your output should be something like this:\n",
        "\n",
        "```\n",
        "hanoi(n_disks=1)\n",
        "Move disk 1 from left rod to right rod.\n",
        "\n",
        "hanoi(n_disks=2)\n",
        "Move disk 1 from left rod to middle rod.\n",
        "Move disk 2 from left rod to right rod.\n",
        "Move disk 1 from middle rod to right rod.\n",
        "\n",
        "hanoi(n_disks=3)\n",
        "Move disk 1 from left rod to right rod.\n",
        "Move disk 2 from left rod to middle rod.\n",
        "Move disk 1 from right rod to middle rod.\n",
        "Move disk 3 from left rod to right rod.\n",
        "Move disk 1 from middle rod to left rod.\n",
        "Move disk 2 from middle rod to right rod.\n",
        "Move disk 1 from left rod to right rod.\n",
        "```\n",
        "\n__Remember to remove this print statement before submitting assignment__"
      ],
      "metadata": {
        "nbgrader": {
          "grade": false,
          "grade_id": "cell-9241d0f017935717",
          "locked": true,
          "schema_version": 3,
          "solution": false
        }
      }
    },
    {
      "cell_type": "markdown",
      "source": [
        "Tests\n",
        "-----"
      ],
      "metadata": {
        "nbgrader": {
          "grade": false,
          "grade_id": "cell-bb8d48647ccb0084",
          "locked": true,
          "schema_version": 3,
          "solution": false
        }
      }
    },
    {
      "cell_type": "code",
      "source": [
        "\"\"\"\n",
        "Test code for hanoi function.\n",
        "This cell should NOT give any errors when it is run.\n",
        "\"\"\"\n",
        "\n",
        "from bdb import Bdb\n",
        "import sys\n",
        "\n",
        "class RecursionDetected(Exception):\n",
        "    pass\n",
        "\n",
        "class RecursionDetector(Bdb):\n",
        "    \"From: https://stackoverflow.com/questions/36662181/is-there-a-way-to-check-if-function-is-recursive-in-python\"\n",
        "    def do_clear(self, arg):\n",
        "        pass\n",
        "\n",
        "    def __init__(self, *args):\n",
        "        Bdb.__init__(self, *args)\n",
        "        self.stack = set()\n",
        "\n",
        "    def user_call(self, frame, argument_list):\n",
        "        code = frame.f_code\n",
        "        if code in self.stack:\n",
        "            raise RecursionDetected\n",
        "        self.stack.add(code)\n",
        "\n",
        "    def user_return(self, frame, return_value):\n",
        "        self.stack.remove(frame.f_code)\n",
        "\n",
        "def test_recursion(func):\n",
        "    detector = RecursionDetector()\n",
        "    detector.set_trace()\n",
        "    try:\n",
        "        func()\n",
        "    except RecursionDetected:\n",
        "        return True\n",
        "    else:\n",
        "        return False\n",
        "    finally:\n",
        "        sys.settrace(None)\n",
        "        \n",
        "# Test if function is recursive\n",
        "assert test_recursion(lambda: hanoi(n_disks=1))\n",
        "assert test_recursion(lambda: hanoi(n_disks=2))\n",
        "assert test_recursion(lambda: hanoi(n_disks=3))"
      ],
      "outputs": [
        {
          "output_type": "stream",
          "name": "stdout",
          "text": [
            "1\n",
            "2\n",
            "3\n"
          ]
        }
      ],
      "execution_count": 3,
      "metadata": {
        "code_folding": [
          9,
          12,
          30
        ],
        "nbgrader": {
          "grade": true,
          "grade_id": "cell-be8a34383a4857ce",
          "locked": true,
          "points": 0,
          "schema_version": 3,
          "solution": false
        }
      }
    },
    {
      "cell_type": "code",
      "source": [
        "\"\"\"\n",
        "Test code for hanoi function.\n",
        "This cell should NOT give any errors when it is run.\n",
        "\"\"\"\n",
        "\n",
        "from io import StringIO\n",
        "import sys\n",
        "\n",
        "class Capturing(list):\n",
        "    \"From: https://stackoverflow.com/questions/16571150/how-to-capture-stdout-output-from-a-python-function-call\"\n",
        "    \n",
        "    def __enter__(self):\n",
        "        self._stdout = sys.stdout\n",
        "        sys.stdout = self._stringio = StringIO()\n",
        "        return self\n",
        "    \n",
        "    def __exit__(self, *args):\n",
        "        self.extend(self._stringio.getvalue().splitlines())\n",
        "        del self._stringio    # free up some memory\n",
        "        sys.stdout = self._stdout\n",
        "\n\n",
        "# n_disks=1        \n",
        "with Capturing() as output:\n",
        "    hanoi(n_disks=1)\n",
        "    \n",
        "assert output == ['1', '0', '0'] \n",
        "\n",
        "# Note: \n",
        "# There are extra moves with \"0\" discs.\n",
        "# We could prevent the zeros by adding a conditional that prevents their execution. That conditional is not required for this lab.\n",
        "# I want to focus just on the recursive logic. Those zeros are clues to the recursive logic required to solve this game.\n",
        "\n",
        "# Test for optimality after filtering out zeros\n",
        "assert len([m for m in output if m != '0']) == 1\n",
        "\n",
        "# n_disks=2\n",
        "with Capturing() as output:\n",
        "    hanoi(n_disks=2)\n",
        "assert output == ['2', '1', '0', '0', '1', '0', '0']\n",
        "# Test for optimality after filtering out zeros\n",
        "assert len([m for m in output if m != '0']) == 3\n",
        "\n",
        "# n_disks=3\n",
        "with Capturing() as output:\n",
        "    hanoi(n_disks=3)\n",
        "assert output == ['3', '2', '1', '0', '0', '1', '0', '0', '2', '1', '0', '0', '1', '0', '0']\n",
        "# Test for optimality after filtering out zeros\n",
        "assert len([m for m in output if m != '0']) == 7"
      ],
      "outputs": [],
      "execution_count": 4,
      "metadata": {
        "code_folding": [],
        "nbgrader": {
          "grade": true,
          "grade_id": "cell-811a7b634c7694da",
          "locked": true,
          "points": 0,
          "schema_version": 3,
          "solution": false
        }
      }
    },
    {
      "cell_type": "markdown",
      "source": [
        "<br>\n",
        "<br> \n",
        "<br>\n",
        "\n----"
      ],
      "metadata": {
        "nbgrader": {
          "grade": false,
          "grade_id": "cell-ff2d070e25115ec4",
          "locked": true,
          "schema_version": 3,
          "solution": false
        }
      }
    }
  ],
  "metadata": {
    "anaconda-cloud": {},
    "celltoolbar": "Create Assignment",
    "kernelspec": {
      "name": "python3",
      "language": "python",
      "display_name": "Python 3"
    },
    "language_info": {
      "name": "python",
      "version": "3.7.7",
      "mimetype": "text/x-python",
      "codemirror_mode": {
        "name": "ipython",
        "version": 3
      },
      "pygments_lexer": "ipython3",
      "nbconvert_exporter": "python",
      "file_extension": ".py"
    },
    "toc": {
      "toc_position": {},
      "skip_h1_title": false,
      "number_sections": false,
      "title_cell": "Table of Contents",
      "toc_window_display": false,
      "base_numbering": 1,
      "toc_section_display": true,
      "title_sidebar": "Contents",
      "toc_cell": true,
      "nav_menu": {},
      "sideBar": true
    },
    "kernel_info": {
      "name": "python3"
    },
    "nteract": {
      "version": "0.12.3"
    }
  },
  "nbformat": 4,
  "nbformat_minor": 1
}