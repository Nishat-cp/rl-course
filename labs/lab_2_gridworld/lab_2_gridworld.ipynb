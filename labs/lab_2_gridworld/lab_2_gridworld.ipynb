{
 "cells": [
  {
   "cell_type": "markdown",
   "metadata": {
    "nbgrader": {
     "grade": false,
     "grade_id": "cell-9892e8717bdd2620",
     "locked": true,
     "schema_version": 3,
     "solution": false,
     "task": false
    },
    "toc": true
   },
   "source": [
    "<h1>Table of Contents<span class=\"tocSkip\"></span></h1>\n",
    "<div class=\"toc\"><ul class=\"toc-item\"><li><span><a href=\"#Lab-2:-Gridworld\" data-toc-modified-id=\"Lab-2:-Gridworld-1\">Lab 2: Gridworld</a></span></li><li><span><a href=\"#Learning-Outcomes\" data-toc-modified-id=\"Learning-Outcomes-2\">Learning Outcomes</a></span></li><li><span><a href=\"#(Grid)-World-Building\" data-toc-modified-id=\"(Grid)-World-Building-3\">(Grid) World Building</a></span></li><li><span><a href=\"#Markov-decision-process-(MDP)-Class\" data-toc-modified-id=\"Markov-decision-process-(MDP)-Class-4\">Markov decision process (MDP) Class</a></span></li><li><span><a href=\"#Q-value-Function\" data-toc-modified-id=\"Q-value-Function-5\">Q-value Function</a></span></li><li><span><a href=\"#Value-Iteration-Function\" data-toc-modified-id=\"Value-Iteration-Function-6\">Value Iteration Function</a></span></li><li><span><a href=\"#Hints\" data-toc-modified-id=\"Hints-7\">Hints</a></span></li></ul></div>"
   ]
  },
  {
   "cell_type": "markdown",
   "metadata": {
    "nbgrader": {
     "grade": false,
     "grade_id": "cell-daaaef17401d0af9",
     "locked": true,
     "schema_version": 3,
     "solution": false
    }
   },
   "source": [
    "Lab 2: Gridworld\n",
    "-----"
   ]
  },
  {
   "cell_type": "markdown",
   "metadata": {
    "nbgrader": {
     "grade": false,
     "grade_id": "cell-05e3bf336607dfed",
     "locked": true,
     "schema_version": 3,
     "solution": false
    }
   },
   "source": [
    "Learning Outcomes\n",
    "----\n",
    "\n",
    "__By the end of this session, you should be able to__:\n",
    "\n",
    "- Implement the Q-Value and Value Iteration functions to calculate the utilities in a grid-world."
   ]
  },
  {
   "cell_type": "markdown",
   "metadata": {
    "nbgrader": {
     "grade": false,
     "grade_id": "cell-43a37fbeb60b27b5",
     "locked": true,
     "schema_version": 3,
     "solution": false
    }
   },
   "source": [
    "(Grid) World Building\n",
    "-----"
   ]
  },
  {
   "cell_type": "code",
   "execution_count": 45,
   "metadata": {
    "nbgrader": {
     "grade": false,
     "grade_id": "cell-0aee3860d00beb75",
     "locked": true,
     "schema_version": 3,
     "solution": false
    }
   },
   "outputs": [],
   "source": [
    "reset -fs"
   ]
  },
  {
   "cell_type": "code",
   "execution_count": 46,
   "metadata": {
    "nbgrader": {
     "grade": false,
     "grade_id": "cell-b7cf369eee91207f",
     "locked": true,
     "schema_version": 3,
     "solution": false,
     "task": false
    }
   },
   "outputs": [],
   "source": [
    "\"\"\"\n",
    "The gridworld from lecture as a lists-of-lists.\n",
    "Each cell has a reward value.\n",
    "`None` for an obstacle / unreachable state. \n",
    "\"\"\"\n",
    "\n",
    "r = -0.04 # The default is a small negative reward to encourage moving towards an optimal terminal state\n",
    "warehouse= [[r,    r, r, +1],\n",
    "            [r, None, r, -1],\n",
    "            [r,    r, r,  r]]"
   ]
  },
  {
   "cell_type": "code",
   "execution_count": 47,
   "metadata": {
    "nbgrader": {
     "grade": true,
     "grade_id": "cell-bf5d4b9fdbe3856b",
     "locked": true,
     "points": 0,
     "schema_version": 3,
     "solution": false
    }
   },
   "outputs": [],
   "source": [
    "\"\"\"\n",
    "Test code for warehouse data structure.\n",
    "This cell should NOT give any errors when it is run.\n",
    "\"\"\"\n",
    "\n",
    "assert len(warehouse) == 3 # Number of rows\n",
    "assert [len(row) for row in warehouse] == [4, 4, 4] # Number of columns in each row\n",
    "assert [\"Found a None\" for row in warehouse if None in row] == [\"Found a None\"] # Check for a single None\n",
    "assert [sum(row) for row in warehouse if None not in row] == [0.88, -0.16] # For complete rows\n",
    "assert [max(row) for row in warehouse if None not in row] == [1, -0.04] # For complete rows\n",
    "assert [sum(row) for row in list(map(list, zip(*warehouse))) if None not in row] == [-0.12, -0.12, -0.04] # For complete columns\n",
    "assert [min(row) for row in list(map(list, zip(*warehouse))) if None not in row] == [-0.04, -0.04, -1] # For complete columns"
   ]
  },
  {
   "cell_type": "markdown",
   "metadata": {
    "nbgrader": {
     "grade": false,
     "grade_id": "cell-5bf80f8f11c519d3",
     "locked": true,
     "schema_version": 3,
     "solution": false
    }
   },
   "source": [
    "Markov decision process (MDP) Class\n",
    "------\n",
    "\n",
    "A Markov decision process (MDP) class for a two-dimensional grid-world has been implemented for you.\n",
    "\n",
    "Please read carefully through it"
   ]
  },
  {
   "cell_type": "code",
   "execution_count": 48,
   "metadata": {
    "code_folding": [
     0
    ],
    "nbgrader": {
     "grade": false,
     "grade_id": "cell-fe056b8caa83d8f1",
     "locked": true,
     "schema_version": 3,
     "solution": false
    }
   },
   "outputs": [],
   "source": [
    "class MarkovDecisionProcess():\n",
    "    \"A two-dimensional grid Markov decision process (MDP).\"\n",
    "\n",
    "    def __init__(self, grid, terminals, gamma=1):\n",
    "        grid.reverse() # Row 0 is on bottom, not on top; The difference between gridworld and Python\n",
    "        self.grid = grid\n",
    "        self.terminals = terminals\n",
    "        self.gamma = gamma\n",
    "        self.n_rows = len(grid)\n",
    "        self.n_cols = len(grid[0])\n",
    "\n",
    "        states = set()\n",
    "        reward = {}\n",
    "        for x in range(self.n_cols):\n",
    "            for y in range(self.n_rows):\n",
    "                if grid[y][x]:\n",
    "                    states.add((x, y))\n",
    "                    reward[(x, y)] = grid[y][x]\n",
    "                else:\n",
    "                    reward[(x, y)] = None\n",
    "        self.reward = reward\n",
    "        self.states = states\n",
    "        \n",
    "        self.actlist = [(1, 0), (0, 1), (-1, 0), (0, -1)] # An action is an (x, y) unit vector; e.g. (1, 0) means move east.\n",
    "        \n",
    "        transitions = {}\n",
    "        for s in states:\n",
    "            transitions[s] = {}\n",
    "            for a in self.actlist:\n",
    "                transitions[s][a] = self.calculate_t(s, a)\n",
    "        self.transitions=transitions\n",
    "        \n",
    "    def actions(self, state):\n",
    "        \"\"\"Return a list of actions that can be performed in this state. By default, a\n",
    "        fixed list of actions, except for terminal states. Override this\n",
    "        method if you need to specialize by state.\"\"\"\n",
    "\n",
    "        if state in self.terminals:\n",
    "            return [None]\n",
    "        else:\n",
    "            return self.actlist\n",
    "\n",
    "    def calculate_t(self, state, action):\n",
    "        \"Caculate the transition, including probability of not completing intended action.\"\n",
    "        if action:\n",
    "            return [(0.8, self.go(state, action)), # Intended\n",
    "                    (0.1, self.go(state, self.turn_right(action))), # Error\n",
    "                    (0.1, self.go(state, self.turn_left(action)))]  # Error\n",
    "        else:\n",
    "            return [(0.0, state)]\n",
    "    \n",
    "    def t(self, state, action):\n",
    "        \"Probability transition function, aka model of world\"\n",
    "        return self.transitions[state][action] if action else [(0.0, state)]\n",
    "    \n",
    "    def turn_heading(self, heading, inc, headings=[(1, 0), (0, 1), (-1, 0), (0, -1)]):\n",
    "        return headings[(headings.index(heading) + inc) % len(headings)]\n",
    "\n",
    "    def turn_right(self, heading):\n",
    "        return self.turn_heading(heading, -1)\n",
    "\n",
    "    def turn_left(self, heading):\n",
    "        return self.turn_heading(heading, +1)\n",
    "\n",
    "    def get_reward(self, state):\n",
    "        \"Return a numeric reward for this state.\"\n",
    "        return self.reward[state]\n",
    " \n",
    "    def go(self, state, direction):\n",
    "        \"Return the state that results from going in this direction.\"\n",
    "        state_prime = tuple(map(lambda x, y: x+y, state, direction))\n",
    "        return state_prime if state_prime in self.states else state\n"
   ]
  },
  {
   "cell_type": "code",
   "execution_count": 49,
   "metadata": {
    "nbgrader": {
     "grade": false,
     "grade_id": "cell-9b30ea71c3de966f",
     "locked": true,
     "schema_version": 3,
     "solution": false
    }
   },
   "outputs": [],
   "source": [
    "# Instantiate warehouse as an instance of MarkovDecisionProcess\n",
    "warehouse_mdp = MarkovDecisionProcess(grid=warehouse,\n",
    "                                      terminals=[(3, 2), \n",
    "                                                 (3, 1)])"
   ]
  },
  {
   "cell_type": "markdown",
   "metadata": {},
   "source": [
    "Q-value Function\n",
    "-----"
   ]
  },
  {
   "cell_type": "code",
   "execution_count": 50,
   "metadata": {},
   "outputs": [],
   "source": [
    "\"\"\"Write q_value function\n",
    "\n",
    "See lecture notes for pseudocode.\n",
    "\"\"\"\n",
    "\n",
    "def q_value(mdp, state, action, U):\n",
    "    \"The excepted utility of taking a given action in a given state in a given environment.\"\n",
    "\n",
    "    # TODO: Write your solution below here\n",
    "    \n"
   ]
  },
  {
   "cell_type": "code",
   "execution_count": 51,
   "metadata": {},
   "outputs": [],
   "source": [
    "\"\"\"\n",
    "Test code for q_value function.\n",
    "This cell should NOT give any errors when it is run.\n",
    "\"\"\"\n",
    "\n",
    "default_params = dict(mdp=warehouse_mdp,\n",
    "                      state=(0, 0),\n",
    "                      action=(1, 0),\n",
    "                      U={s:warehouse_mdp.get_reward(s) for s in warehouse_mdp.states} # Fake values\n",
    "                      )\n",
    "\n",
    "assert round(q_value(**default_params), 4) == -0.080\n",
    "\n",
    "# A state closer to postive terminal\n",
    "default_params['state']=(2, 2)\n",
    "assert q_value(**default_params) == 0.752\n",
    "\n",
    "# Different action in that state\n",
    "default_params['state']=(2, 2)\n",
    "default_params['action']=(0, 1)\n",
    "assert q_value(**default_params) == 0.024"
   ]
  },
  {
   "cell_type": "markdown",
   "metadata": {
    "nbgrader": {
     "grade": false,
     "grade_id": "cell-fcf1d9de4729d2e2",
     "locked": true,
     "schema_version": 3,
     "solution": false
    }
   },
   "source": [
    "Value Iteration Function\n",
    "----"
   ]
  },
  {
   "cell_type": "code",
   "execution_count": 52,
   "metadata": {
    "nbgrader": {
     "grade": false,
     "grade_id": "cell-c0e99e2c9f78f178",
     "locked": false,
     "schema_version": 3,
     "solution": true
    }
   },
   "outputs": [],
   "source": [
    "\"\"\"Write value iteration function to solve mdp.\n",
    "\n",
    "See lecture notes for pseudocode.\n",
    "\"\"\"\n",
    "\n",
    "def value_iteration(mdp, epsilon=0.001)->dict:\n",
    "    \"Return the calculate utility of each state with value iteration.\"\n",
    "    \n",
    "    # TODO: Write your solution below here\n",
    "    \n"
   ]
  },
  {
   "cell_type": "code",
   "execution_count": 53,
   "metadata": {
    "nbgrader": {
     "grade": true,
     "grade_id": "cell-0257007adfa31dbb",
     "locked": true,
     "points": 0,
     "schema_version": 3,
     "solution": false
    }
   },
   "outputs": [],
   "source": [
    "\"\"\"\n",
    "Test code for value_iteration function.\n",
    "This cell should NOT give any errors when it is run.\n",
    "\"\"\"\n",
    "\n",
    "mdp_values = value_iteration(warehouse_mdp)\n",
    "assert type(mdp_values) == dict\n",
    "assert len(mdp_values.keys()) == 11\n",
    "assert sorted(mdp_values.keys()) == [\\\n",
    " (0, 0),\n",
    " (0, 1),\n",
    " (0, 2),\n",
    " (1, 0),\n",
    " (1, 2),\n",
    " (2, 0),\n",
    " (2, 1),\n",
    " (2, 2),\n",
    " (3, 0),\n",
    " (3, 1),\n",
    " (3, 2)\n",
    "]"
   ]
  },
  {
   "cell_type": "code",
   "execution_count": 54,
   "metadata": {
    "nbgrader": {
     "grade": true,
     "grade_id": "cell-ac4f0b7d4152658b",
     "locked": true,
     "points": 0,
     "schema_version": 3,
     "solution": false
    }
   },
   "outputs": [],
   "source": [
    "\"\"\"\n",
    "Test code for value_iteration function.\n",
    "This cell should NOT give any errors when it is run.\n",
    "\"\"\"\n",
    "mdp_values = value_iteration(warehouse_mdp)\n",
    "assert mdp_values[(3, 1)] == -1.0\n",
    "assert mdp_values[(3, 2)] ==  1.0"
   ]
  },
  {
   "cell_type": "code",
   "execution_count": 55,
   "metadata": {
    "nbgrader": {
     "grade": true,
     "grade_id": "cell-569c829cb5cd6555",
     "locked": true,
     "points": 0,
     "schema_version": 3,
     "solution": false
    }
   },
   "outputs": [],
   "source": [
    "\"\"\"\n",
    "Test code for value_iteration function.\n",
    "This cell should NOT give any errors when it is run.\n",
    "\"\"\"\n",
    "mdp_values = value_iteration(warehouse_mdp)\n",
    "try: \n",
    "    mdp_values[(1, 1)] # Look for key that should not be there\n",
    "    assert False\n",
    "except KeyError: # If key is not there, unit test passes\n",
    "    assert True"
   ]
  },
  {
   "cell_type": "code",
   "execution_count": 56,
   "metadata": {
    "nbgrader": {
     "grade": false,
     "grade_id": "cell-b1ede7cc5ba0f4fa",
     "locked": true,
     "schema_version": 3,
     "solution": false,
     "task": false
    }
   },
   "outputs": [],
   "source": [
    "expected_values = {\\\n",
    " (0, 0): 0.7053082191780823,\n",
    " (0, 1): 0.7615582191780823,\n",
    " (0, 2): 0.8115582191780822,\n",
    " (1, 0): 0.6553082191780822,\n",
    " (1, 2): 0.8678082191780823,\n",
    " (2, 0): 0.6114155251141552,\n",
    " (2, 1): 0.6602739726027398,\n",
    " (2, 2): 0.9178082191780822,\n",
    " (3, 0): 0.3879249112125825,\n",
    " (3, 1): -1.0,\n",
    " (3, 2):  1.0}"
   ]
  },
  {
   "cell_type": "code",
   "execution_count": 57,
   "metadata": {
    "nbgrader": {
     "grade": true,
     "grade_id": "cell-3ec0b8efc5f2204c",
     "locked": true,
     "points": 0,
     "schema_version": 3,
     "solution": false
    }
   },
   "outputs": [],
   "source": [
    "\"\"\"\n",
    "Test code for value_iteration function.\n",
    "Approximate values\n",
    "This cell should NOT give any errors when it is run.\n",
    "\"\"\"\n",
    "\n",
    "computed_values = dict(sorted(value_iteration(warehouse_mdp, epsilon=1).items())) # Sort solution for quick visual inspection\n",
    "rounded_computed_values = {k: round(v, 2) for k,v in computed_values.items()}\n",
    "rounded_expected_values = {k: round(v, 2) for k,v in expected_values.items()}\n",
    "assert rounded_computed_values == rounded_expected_values"
   ]
  },
  {
   "cell_type": "code",
   "execution_count": 58,
   "metadata": {
    "nbgrader": {
     "grade": true,
     "grade_id": "cell-1f07d2a13bc3428d",
     "locked": true,
     "points": 0,
     "schema_version": 3,
     "solution": false
    }
   },
   "outputs": [],
   "source": [
    "\"\"\"\n",
    "Test code for value_iteration function.\n",
    "Precisely correctly values\n",
    "This cell should NOT give any errors when it is run.\n",
    "\"\"\"\n",
    "\n",
    "computed_values = dict(sorted(value_iteration(warehouse_mdp, epsilon=1).items())) # Sort solution for quick visual inspection\n",
    "assert rounded_computed_values == rounded_expected_values"
   ]
  },
  {
   "cell_type": "markdown",
   "metadata": {
    "nbgrader": {
     "grade": false,
     "grade_id": "cell-0f84d163ed217d39",
     "locked": true,
     "schema_version": 3,
     "solution": false
    }
   },
   "source": [
    "Hints\n",
    "-------\n",
    "\n",
    "- Pay attention to indexing. Gridworld examples in books and in class use different indexing than Python!\n",
    "    - Storing in `dict` helps (compared to a list-of-lists).\n",
    "- Start with direct translation of pseudocode. \n",
    "- Get unit tests to pass.\n",
    "- Then refactor - replace mathematical symbols and concepts with Pythonic names and idioms.\n",
    "- It might be hard for you. Several of the previous students thought this was the most the difficult lab.  "
   ]
  },
  {
   "cell_type": "markdown",
   "metadata": {
    "nbgrader": {
     "grade": false,
     "grade_id": "cell-8c68438c4e4d0ce3",
     "locked": true,
     "schema_version": 3,
     "solution": false
    }
   },
   "source": [
    "<br>\n",
    "<br> \n",
    "<br>\n",
    "\n",
    "----"
   ]
  }
 ],
 "metadata": {
  "celltoolbar": "Create Assignment",
  "kernelspec": {
   "display_name": "Python 3",
   "language": "python",
   "name": "python3"
  },
  "language_info": {
   "codemirror_mode": {
    "name": "ipython",
    "version": 3
   },
   "file_extension": ".py",
   "mimetype": "text/x-python",
   "name": "python",
   "nbconvert_exporter": "python",
   "pygments_lexer": "ipython3",
   "version": "3.7.7"
  },
  "toc": {
   "base_numbering": 1,
   "nav_menu": {},
   "number_sections": false,
   "sideBar": false,
   "skip_h1_title": false,
   "title_cell": "Table of Contents",
   "title_sidebar": "Contents",
   "toc_cell": true,
   "toc_position": {},
   "toc_section_display": true,
   "toc_window_display": false
  }
 },
 "nbformat": 4,
 "nbformat_minor": 2
}
